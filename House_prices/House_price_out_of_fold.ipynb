{
 "cells": [
  {
   "cell_type": "code",
   "execution_count": 2,
   "id": "d7dcddca",
   "metadata": {},
   "outputs": [],
   "source": [
    "import pandas as pd\n",
    "import numpy as np\n",
    "import matplotlib.pyplot as plt\n",
    "import seaborn as sns\n",
    "import warnings\n",
    "warnings.filterwarnings('ignore')\n",
    "%matplotlib inline\n",
    "\n",
    "pd.set_option('display.max_rows', 100)\n",
    "pd.set_option('display.max_columns', 200)"
   ]
  },
  {
   "cell_type": "code",
   "execution_count": 3,
   "id": "84e80982",
   "metadata": {},
   "outputs": [],
   "source": [
    "train_data = pd.read_csv('train.csv')\n",
    "test_data = pd.read_csv('test.csv')"
   ]
  },
  {
   "cell_type": "code",
   "execution_count": 4,
   "id": "a04e058b",
   "metadata": {},
   "outputs": [],
   "source": [
    "train_test_data = pd.concat([train_data, test_data])"
   ]
  },
  {
   "cell_type": "code",
   "execution_count": 7,
   "id": "34d5eb10",
   "metadata": {},
   "outputs": [],
   "source": [
    "object_columns = train_test_data.dtypes[train_test_data.dtypes == object].index.tolist()"
   ]
  },
  {
   "cell_type": "code",
   "execution_count": 8,
   "id": "90bca6d2",
   "metadata": {},
   "outputs": [],
   "source": [
    "for column in object_columns:\n",
    "    train_test_data[column] = pd.factorize(train_test_data[column])[0]"
   ]
  },
  {
   "cell_type": "code",
   "execution_count": 9,
   "id": "bf8792c9",
   "metadata": {},
   "outputs": [],
   "source": [
    "def feature_processed(train_test_data):\n",
    "    train_test_data['Lot_GrLiv_Area_Sum'] = train_test_data[['LotArea', 'GrLivArea']].sum(axis=1)\n",
    "    train_test_data['Lot_GrLiv_Area_Ratio'] = train_test_data['GrLivArea'] / train_test_data['LotArea']\n",
    "    \n",
    "    train_test_data['GrLiv_Bsmt_Area_Sum'] = train_test_data[['GrLivArea', 'TotalBsmtSF']].sum(axis=1)\n",
    "    train_test_data['GrLiv_Bsmt_Area_Ratio'] = train_test_data['TotalBsmtSF'] / train_test_data['GrLivArea']\n",
    "    \n",
    "    train_test_data['1st_2nd_Area_Sum'] = train_test_data[['1stFlrSF', '2ndFlrSF']].sum(axis=1)\n",
    "    train_test_data['1st_2nd_Area_Mean'] = train_test_data[['1stFlrSF', '2ndFlrSF']].mean(axis=1)\n",
    "    train_test_data['1st_2nd_Area_Std'] = train_test_data[['1stFlrSF', '2ndFlrSF']].std(axis=1)\n",
    "    train_test_data['1st_2nd_Area_Std'] = train_test_data['1st_2nd_Area_Std'].fillna(train_test_data['1st_2nd_Area_Std'].mean())\n",
    "    \n",
    "    train_test_data['Built_Remod_Year_Mean'] = train_test_data[['YearBuilt', 'YearRemodAdd']].mean(axis=1)\n",
    "    \n",
    "    train_test_data['Total_Bsmtfin_Mean'] = train_test_data[['BsmtFinSF1', 'BsmtFinSF2']].mean(axis=1)\n",
    "    \n",
    "    train_test_data['BsmtUnf_Ratio'] = train_test_data['BsmtUnfSF'] / train_test_data['TotalBsmtSF']\n",
    "    \n",
    "    train_test_data['Porch_All_Sum'] = train_test_data[['OpenPorchSF', 'EnclosedPorch', '3SsnPorch', 'ScreenPorch']].sum(axis=1)\n",
    "    train_test_data['Porch_All_Mean'] = train_test_data[['OpenPorchSF', 'EnclosedPorch', '3SsnPorch', 'ScreenPorch']].mean(axis=1)\n",
    "    train_test_data['Porch_All_Std'] = train_test_data[['OpenPorchSF', 'EnclosedPorch', '3SsnPorch', 'ScreenPorch']].std(axis=1)\n",
    "    train_test_data['Porch_All_Std'] = train_test_data['Porch_All_Std'].fillna(train_test_data['Porch_All_Std'].mean())\n",
    "    \n",
    "    train_test_data['Qual_All_Sum'] = train_test_data[['ExterQual', 'BsmtQual', 'KitchenQual', 'GarageQual']].sum(axis=1)\n",
    "    train_test_data['Qual_All_Mean'] = train_test_data[['ExterQual', 'BsmtQual', 'KitchenQual', 'GarageQual']].mean(axis=1)\n",
    "    train_test_data['Qual_All_Std'] = train_test_data[['ExterQual', 'BsmtQual', 'KitchenQual', 'GarageQual']].std(axis=1)\n",
    "    train_test_data['Qual_All_Std'] = train_test_data['Qual_All_Std'].fillna(train_test_data['Qual_All_Std'].mean())\n",
    "    \n",
    "    train_test_data['Cond_All_Sum'] = train_test_data[['ExterCond', 'BsmtCond', 'GarageCond']].sum(axis=1)\n",
    "    train_test_data['Cond_All_Mean'] = train_test_data[['ExterCond', 'BsmtCond', 'GarageCond']].mean(axis=1)\n",
    "    train_test_data['Cond_All_Std'] = train_test_data[['ExterCond', 'BsmtCond', 'GarageCond']].std(axis=1)\n",
    "    train_test_data['Cond_All_Std'] = train_test_data['Cond_All_Std'].fillna(train_test_data['Cond_All_Std'].mean())\n",
    "    \n",
    "    train_test_data['Room_Kitchen_Sum'] = train_test_data[['BedroomAbvGr', 'KitchenAbvGr', 'TotRmsAbvGrd']].sum(axis=1)\n",
    "    \n",
    "    return train_test_data"
   ]
  },
  {
   "cell_type": "code",
   "execution_count": 10,
   "id": "ad7e072a",
   "metadata": {},
   "outputs": [],
   "source": [
    "train_test_data = feature_processed(train_test_data)"
   ]
  },
  {
   "cell_type": "code",
   "execution_count": 11,
   "id": "274d8ccb",
   "metadata": {},
   "outputs": [],
   "source": [
    "train_data = train_test_data[~train_test_data['SalePrice'].isnull()]\n",
    "test_data = train_test_data[train_test_data['SalePrice'].isnull()]\n",
    "test_data = test_data.drop('SalePrice', axis=1)"
   ]
  },
  {
   "cell_type": "code",
   "execution_count": 16,
   "id": "a3b44972",
   "metadata": {},
   "outputs": [],
   "source": [
    "from sklearn.model_selection import KFold\n",
    "from sklearn.metrics import r2_score\n",
    "from lightgbm import LGBMRegressor\n",
    "\n",
    "def train_with_oof(train_data, test_data, nfolds=5):\n",
    "    ftr_train = train_data.drop(['Id', 'SalePrice'], axis=1)\n",
    "    saleprice_train = train_data['SalePrice']\n",
    "    \n",
    "    folds = KFold(n_splits=nfolds, shuffle=True, random_state=2022)\n",
    "    oof_preds = np.zeros(ftr_train.shape[0])\n",
    "    test_preds = np.zeros(test_data.shape[0])\n",
    "    \n",
    "    lgbr = LGBMRegressor(\n",
    "        njobs=-1,\n",
    "        n_estimators=2000,\n",
    "        learning_rate=0.01,\n",
    "        max_depth = 6,\n",
    "        num_leaves=12,\n",
    "        colsample_bytree=0.5,\n",
    "        subsample=0.5,\n",
    "        max_bin=89,\n",
    "        reg_alpha=32.453,\n",
    "        reg_lambda=0.001,\n",
    "        min_child_weight=1,\n",
    "        min_child_samples=10,\n",
    "        silent=-1,\n",
    "        verbose=-1\n",
    "    )\n",
    "    \n",
    "    for fold_idx, (train_idx, valid_idx) in enumerate(folds.split(ftr_train)):\n",
    "        train_x = ftr_train.iloc[train_idx, :]\n",
    "        train_y = saleprice_train.iloc[train_idx]\n",
    "        valid_x = ftr_train.iloc[valid_idx, :]\n",
    "        valid_y = saleprice_train.iloc[valid_idx]\n",
    "        \n",
    "        lgbr.fit(train_x, train_y, eval_set=[(train_x, train_y), (valid_x, valid_y)], eval_metric='r2',\n",
    "                verbose=100, early_stopping_rounds=100)\n",
    "        \n",
    "        oof_preds[valid_idx] = lgbr.predict(valid_x, num_iteration=lgbr.best_iteration_)\n",
    "        test_preds += lgbr.predict(test_data.drop('Id', axis=1), num_iteration=lgbr.best_iteration_)/folds.n_splits\n",
    "        \n",
    "    return lgbr, test_preds"
   ]
  },
  {
   "cell_type": "code",
   "execution_count": 17,
   "id": "a677748b",
   "metadata": {},
   "outputs": [
    {
     "name": "stdout",
     "output_type": "stream",
     "text": [
      "[LightGBM] [Warning] Unknown parameter: njobs\n",
      "[100]\ttraining's l2: 1.67323e+09\tvalid_1's l2: 1.70529e+09\n",
      "[200]\ttraining's l2: 6.99836e+08\tvalid_1's l2: 9.66669e+08\n",
      "[300]\ttraining's l2: 4.19649e+08\tvalid_1's l2: 7.82065e+08\n",
      "[400]\ttraining's l2: 3.01624e+08\tvalid_1's l2: 7.00479e+08\n",
      "[500]\ttraining's l2: 2.40294e+08\tvalid_1's l2: 6.58613e+08\n",
      "[600]\ttraining's l2: 2.04452e+08\tvalid_1's l2: 6.34361e+08\n",
      "[700]\ttraining's l2: 1.79578e+08\tvalid_1's l2: 6.30362e+08\n",
      "[800]\ttraining's l2: 1.58597e+08\tvalid_1's l2: 6.28593e+08\n",
      "[900]\ttraining's l2: 1.40685e+08\tvalid_1's l2: 6.24541e+08\n",
      "[1000]\ttraining's l2: 1.25812e+08\tvalid_1's l2: 6.22426e+08\n",
      "[1100]\ttraining's l2: 1.12722e+08\tvalid_1's l2: 6.18304e+08\n",
      "[1200]\ttraining's l2: 1.01928e+08\tvalid_1's l2: 6.15848e+08\n",
      "[1300]\ttraining's l2: 9.28114e+07\tvalid_1's l2: 6.11279e+08\n",
      "[1400]\ttraining's l2: 8.48904e+07\tvalid_1's l2: 6.08423e+08\n",
      "[1500]\ttraining's l2: 7.79952e+07\tvalid_1's l2: 6.06686e+08\n",
      "[1600]\ttraining's l2: 7.18786e+07\tvalid_1's l2: 6.04221e+08\n",
      "[1700]\ttraining's l2: 6.62828e+07\tvalid_1's l2: 6.03138e+08\n",
      "[1800]\ttraining's l2: 6.08261e+07\tvalid_1's l2: 6.03085e+08\n",
      "[LightGBM] [Warning] Unknown parameter: njobs\n",
      "[100]\ttraining's l2: 1.62248e+09\tvalid_1's l2: 2.15821e+09\n",
      "[200]\ttraining's l2: 6.9237e+08\tvalid_1's l2: 1.16767e+09\n",
      "[300]\ttraining's l2: 4.14059e+08\tvalid_1's l2: 9.08513e+08\n",
      "[400]\ttraining's l2: 3.00591e+08\tvalid_1's l2: 8.05516e+08\n",
      "[500]\ttraining's l2: 2.40103e+08\tvalid_1's l2: 7.59748e+08\n",
      "[600]\ttraining's l2: 2.00906e+08\tvalid_1's l2: 7.39502e+08\n",
      "[700]\ttraining's l2: 1.73609e+08\tvalid_1's l2: 7.30835e+08\n",
      "[800]\ttraining's l2: 1.51017e+08\tvalid_1's l2: 7.24047e+08\n",
      "[900]\ttraining's l2: 1.33907e+08\tvalid_1's l2: 7.16653e+08\n",
      "[1000]\ttraining's l2: 1.19771e+08\tvalid_1's l2: 7.1288e+08\n",
      "[1100]\ttraining's l2: 1.07052e+08\tvalid_1's l2: 7.10579e+08\n",
      "[1200]\ttraining's l2: 9.64654e+07\tvalid_1's l2: 7.07368e+08\n",
      "[1300]\ttraining's l2: 8.74101e+07\tvalid_1's l2: 7.07809e+08\n",
      "[LightGBM] [Warning] Unknown parameter: njobs\n",
      "[100]\ttraining's l2: 1.65646e+09\tvalid_1's l2: 1.56758e+09\n",
      "[200]\ttraining's l2: 6.85021e+08\tvalid_1's l2: 1.09621e+09\n",
      "[300]\ttraining's l2: 4.20738e+08\tvalid_1's l2: 1.04667e+09\n",
      "[400]\ttraining's l2: 3.07753e+08\tvalid_1's l2: 1.05847e+09\n",
      "[LightGBM] [Warning] Unknown parameter: njobs\n",
      "[100]\ttraining's l2: 1.67676e+09\tvalid_1's l2: 1.65629e+09\n",
      "[200]\ttraining's l2: 7.11857e+08\tvalid_1's l2: 1.02969e+09\n",
      "[300]\ttraining's l2: 4.33745e+08\tvalid_1's l2: 8.9833e+08\n",
      "[400]\ttraining's l2: 3.17359e+08\tvalid_1's l2: 8.78011e+08\n",
      "[500]\ttraining's l2: 2.56045e+08\tvalid_1's l2: 8.46542e+08\n",
      "[600]\ttraining's l2: 2.18292e+08\tvalid_1's l2: 8.29376e+08\n",
      "[700]\ttraining's l2: 1.89229e+08\tvalid_1's l2: 8.17192e+08\n",
      "[800]\ttraining's l2: 1.68172e+08\tvalid_1's l2: 8.05843e+08\n",
      "[900]\ttraining's l2: 1.51061e+08\tvalid_1's l2: 7.96311e+08\n",
      "[1000]\ttraining's l2: 1.37049e+08\tvalid_1's l2: 7.90073e+08\n",
      "[1100]\ttraining's l2: 1.24792e+08\tvalid_1's l2: 7.84302e+08\n",
      "[1200]\ttraining's l2: 1.14076e+08\tvalid_1's l2: 7.77114e+08\n",
      "[1300]\ttraining's l2: 1.0449e+08\tvalid_1's l2: 7.71996e+08\n",
      "[1400]\ttraining's l2: 9.61654e+07\tvalid_1's l2: 7.68084e+08\n",
      "[1500]\ttraining's l2: 8.89053e+07\tvalid_1's l2: 7.6437e+08\n",
      "[1600]\ttraining's l2: 8.22133e+07\tvalid_1's l2: 7.59203e+08\n",
      "[1700]\ttraining's l2: 7.55014e+07\tvalid_1's l2: 7.52427e+08\n",
      "[1800]\ttraining's l2: 6.96717e+07\tvalid_1's l2: 7.4853e+08\n",
      "[1900]\ttraining's l2: 6.38915e+07\tvalid_1's l2: 7.44991e+08\n",
      "[2000]\ttraining's l2: 5.92393e+07\tvalid_1's l2: 7.43526e+08\n",
      "[LightGBM] [Warning] Unknown parameter: njobs\n",
      "[100]\ttraining's l2: 1.57923e+09\tvalid_1's l2: 2.77232e+09\n",
      "[200]\ttraining's l2: 7.01454e+08\tvalid_1's l2: 1.47421e+09\n",
      "[300]\ttraining's l2: 4.36413e+08\tvalid_1's l2: 1.06824e+09\n",
      "[400]\ttraining's l2: 3.19651e+08\tvalid_1's l2: 9.16921e+08\n",
      "[500]\ttraining's l2: 2.54201e+08\tvalid_1's l2: 8.37308e+08\n",
      "[600]\ttraining's l2: 2.13272e+08\tvalid_1's l2: 7.98334e+08\n",
      "[700]\ttraining's l2: 1.86121e+08\tvalid_1's l2: 7.89462e+08\n",
      "[800]\ttraining's l2: 1.65032e+08\tvalid_1's l2: 7.78553e+08\n",
      "[900]\ttraining's l2: 1.46893e+08\tvalid_1's l2: 7.72196e+08\n",
      "[1000]\ttraining's l2: 1.31166e+08\tvalid_1's l2: 7.67459e+08\n",
      "[1100]\ttraining's l2: 1.17797e+08\tvalid_1's l2: 7.66035e+08\n",
      "[1200]\ttraining's l2: 1.06493e+08\tvalid_1's l2: 7.61947e+08\n"
     ]
    }
   ],
   "source": [
    "lgbr, test_preds = train_with_oof(train_data, test_data, nfolds=5)"
   ]
  },
  {
   "cell_type": "code",
   "execution_count": 20,
   "id": "8ef1fb55",
   "metadata": {},
   "outputs": [],
   "source": [
    "test_data['SalePrice'] = test_preds\n",
    "test_data[['Id', 'SalePrice']].to_csv('House_prices_oof_01.csv', index=False)"
   ]
  },
  {
   "cell_type": "code",
   "execution_count": null,
   "id": "6e919b48",
   "metadata": {},
   "outputs": [],
   "source": []
  }
 ],
 "metadata": {
  "kernelspec": {
   "display_name": "Python 3 (ipykernel)",
   "language": "python",
   "name": "python3"
  },
  "language_info": {
   "codemirror_mode": {
    "name": "ipython",
    "version": 3
   },
   "file_extension": ".py",
   "mimetype": "text/x-python",
   "name": "python",
   "nbconvert_exporter": "python",
   "pygments_lexer": "ipython3",
   "version": "3.9.7"
  }
 },
 "nbformat": 4,
 "nbformat_minor": 5
}
