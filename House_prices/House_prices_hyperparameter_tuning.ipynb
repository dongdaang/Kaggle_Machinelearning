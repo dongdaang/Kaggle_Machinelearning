{
 "cells": [
  {
   "cell_type": "code",
   "execution_count": 1,
   "id": "0b314cc3",
   "metadata": {},
   "outputs": [],
   "source": [
    "import pandas as pd\n",
    "import numpy as np\n",
    "import seaborn as sns\n",
    "import matplotlib.pyplot as plt\n",
    "import warnings\n",
    "warnings.filterwarnings('ignore')\n",
    "%matplotlib inline\n",
    "\n",
    "pd.set_option('display.max_rows', 500)\n",
    "pd.set_option('display.max_columns', 300)\n",
    "pd.set_option('display.max_colwidth', 30)"
   ]
  },
  {
   "cell_type": "code",
   "execution_count": 2,
   "id": "575e79a4",
   "metadata": {},
   "outputs": [],
   "source": [
    "train_data = pd.read_csv('train.csv')\n",
    "test_data = pd.read_csv('test.csv')\n",
    "feature_description = pd.read_excel('data_description_Kor.xlsx')"
   ]
  },
  {
   "cell_type": "code",
   "execution_count": 3,
   "id": "c84fe7f1",
   "metadata": {},
   "outputs": [],
   "source": [
    "train_test_data = pd.concat([train_data, test_data])"
   ]
  },
  {
   "cell_type": "code",
   "execution_count": 4,
   "id": "256ff19e",
   "metadata": {},
   "outputs": [],
   "source": [
    "object_columns = train_test_data.dtypes[train_test_data.dtypes == object].index.tolist()"
   ]
  },
  {
   "cell_type": "code",
   "execution_count": 5,
   "id": "542de080",
   "metadata": {},
   "outputs": [],
   "source": [
    "for column in object_columns:\n",
    "    train_test_data[column] = pd.factorize(train_test_data[column])[0]"
   ]
  },
  {
   "cell_type": "code",
   "execution_count": 6,
   "id": "638b813f",
   "metadata": {},
   "outputs": [],
   "source": [
    "def feature_processed(train_test_data):\n",
    "    train_test_data['Lot_GrLiv_Area_Sum'] = train_test_data[['LotArea', 'GrLivArea']].sum(axis=1)\n",
    "    train_test_data['Lot_GrLiv_Area_Ratio'] = train_test_data['GrLivArea'] / train_test_data['LotArea']\n",
    "    \n",
    "    train_test_data['GrLiv_Bsmt_Area_Sum'] = train_test_data[['GrLivArea', 'TotalBsmtSF']].sum(axis=1)\n",
    "    train_test_data['GrLiv_Bsmt_Area_Ratio'] = train_test_data['TotalBsmtSF'] / train_test_data['GrLivArea']\n",
    "    \n",
    "    train_test_data['1st_2nd_Area_Sum'] = train_test_data[['1stFlrSF', '2ndFlrSF']].sum(axis=1)\n",
    "    train_test_data['1st_2nd_Area_Mean'] = train_test_data[['1stFlrSF', '2ndFlrSF']].mean(axis=1)\n",
    "    train_test_data['1st_2nd_Area_Std'] = train_test_data[['1stFlrSF', '2ndFlrSF']].std(axis=1)\n",
    "    train_test_data['1st_2nd_Area_Std'] = train_test_data['1st_2nd_Area_Std'].fillna(train_test_data['1st_2nd_Area_Std'].mean())\n",
    "    \n",
    "    train_test_data['Built_Remod_Year_Mean'] = train_test_data[['YearBuilt', 'YearRemodAdd']].mean(axis=1)\n",
    "    \n",
    "    train_test_data['Total_Bsmtfin_Mean'] = train_test_data[['BsmtFinSF1', 'BsmtFinSF2']].mean(axis=1)\n",
    "    \n",
    "    train_test_data['BsmtUnf_Ratio'] = train_test_data['BsmtUnfSF'] / train_test_data['TotalBsmtSF']\n",
    "    \n",
    "    train_test_data['Porch_All_Sum'] = train_test_data[['OpenPorchSF', 'EnclosedPorch', '3SsnPorch', 'ScreenPorch']].sum(axis=1)\n",
    "    train_test_data['Porch_All_Mean'] = train_test_data[['OpenPorchSF', 'EnclosedPorch', '3SsnPorch', 'ScreenPorch']].mean(axis=1)\n",
    "    train_test_data['Porch_All_Std'] = train_test_data[['OpenPorchSF', 'EnclosedPorch', '3SsnPorch', 'ScreenPorch']].std(axis=1)\n",
    "    train_test_data['Porch_All_Std'] = train_test_data['Porch_All_Std'].fillna(train_test_data['Porch_All_Std'].mean())\n",
    "    \n",
    "    train_test_data['Qual_All_Sum'] = train_test_data[['ExterQual', 'BsmtQual', 'KitchenQual', 'GarageQual']].sum(axis=1)\n",
    "    train_test_data['Qual_All_Mean'] = train_test_data[['ExterQual', 'BsmtQual', 'KitchenQual', 'GarageQual']].mean(axis=1)\n",
    "    train_test_data['Qual_All_Std'] = train_test_data[['ExterQual', 'BsmtQual', 'KitchenQual', 'GarageQual']].std(axis=1)\n",
    "    train_test_data['Qual_All_Std'] = train_test_data['Qual_All_Std'].fillna(train_test_data['Qual_All_Std'].mean())\n",
    "    \n",
    "    train_test_data['Cond_All_Sum'] = train_test_data[['ExterCond', 'BsmtCond', 'GarageCond']].sum(axis=1)\n",
    "    train_test_data['Cond_All_Mean'] = train_test_data[['ExterCond', 'BsmtCond', 'GarageCond']].mean(axis=1)\n",
    "    train_test_data['Cond_All_Std'] = train_test_data[['ExterCond', 'BsmtCond', 'GarageCond']].std(axis=1)\n",
    "    train_test_data['Cond_All_Std'] = train_test_data['Cond_All_Std'].fillna(train_test_data['Cond_All_Std'].mean())\n",
    "    \n",
    "    train_test_data['Room_Kitchen_Sum'] = train_test_data[['BedroomAbvGr', 'KitchenAbvGr', 'TotRmsAbvGrd']].sum(axis=1)\n",
    "    \n",
    "    return train_test_data"
   ]
  },
  {
   "cell_type": "code",
   "execution_count": 7,
   "id": "08bd237f",
   "metadata": {},
   "outputs": [],
   "source": [
    "train_test_data = feature_processed(train_test_data)"
   ]
  },
  {
   "cell_type": "code",
   "execution_count": 8,
   "id": "fb3e6062",
   "metadata": {},
   "outputs": [],
   "source": [
    "train_data = train_test_data[~train_test_data['SalePrice'].isnull()]\n",
    "test_data = train_test_data[train_test_data['SalePrice'].isnull()]\n",
    "test_data = test_data.drop('SalePrice', axis=1)"
   ]
  },
  {
   "cell_type": "code",
   "execution_count": 9,
   "id": "6426b090",
   "metadata": {},
   "outputs": [],
   "source": [
    "from sklearn.model_selection import train_test_split\n",
    "\n",
    "ftr_train = train_data.drop(['Id', 'SalePrice'], axis=1)\n",
    "saleprice_train = train_data['SalePrice']\n",
    "train_x, valid_x, train_y, valid_y = train_test_split(ftr_train, saleprice_train, test_size=0.3, random_state=2022)"
   ]
  },
  {
   "cell_type": "code",
   "execution_count": 10,
   "id": "6fc5c65b",
   "metadata": {},
   "outputs": [],
   "source": [
    "from bayes_opt import BayesianOptimization\n",
    "from lightgbm import LGBMRegressor\n",
    "from sklearn.metrics import mean_squared_error"
   ]
  },
  {
   "cell_type": "code",
   "execution_count": 11,
   "id": "c6459155",
   "metadata": {},
   "outputs": [],
   "source": [
    "bayesian_params = {\n",
    "    'max_depth': (6, 16),\n",
    "    'num_leaves': (12, 48),\n",
    "    'min_child_samples': (10, 100),\n",
    "    'min_child_weight': (1, 50),\n",
    "    'subsample': (0.5, 1),\n",
    "    'colsample_bytree': (0.5, 1),\n",
    "    'max_bin': (10, 500),\n",
    "    'reg_lambda': (0.001, 10),\n",
    "    'reg_alpha': (0.01, 50)\n",
    "}"
   ]
  },
  {
   "cell_type": "code",
   "execution_count": 12,
   "id": "94b29576",
   "metadata": {},
   "outputs": [],
   "source": [
    "def lgb_eval(max_depth, num_leaves, min_child_samples, min_child_weight, subsample, colsample_bytree,\n",
    "                max_bin, reg_lambda, reg_alpha):\n",
    "    params = {\n",
    "        'n_estimators': 300,\n",
    "        'learning_rate': 0.02,\n",
    "        'max_depth': int(round(max_depth)),\n",
    "        'num_leaves': int(round(num_leaves)),\n",
    "        'min_child_samples': int(round(min_child_samples)),\n",
    "        'min_child_weight': int(round(min_child_weight)),\n",
    "        'subsample': max(min(subsample, 1), 0),\n",
    "        'colsample_bytree': max(min(colsample_bytree, 1), 0),\n",
    "        'max_bin': max(int(round(max_bin)), 10),\n",
    "        'reg_lambda': max(reg_lambda, 0),\n",
    "        'reg_alpha': max(reg_alpha, 0)\n",
    "    }\n",
    "    lgb_model = LGBMRegressor(**params)\n",
    "    lgb_model.fit(train_x, train_y, eval_set=[(train_x, train_y), (valid_x, valid_y)], eval_metric='mean_squared_error',\n",
    "                  verbose='50', early_stopping_rounds=50)\n",
    "    valid_predict = lgb_model.predict(valid_x)\n",
    "    mse = mean_squared_error(valid_y, valid_predict)\n",
    "    \n",
    "    return mse"
   ]
  },
  {
   "cell_type": "code",
   "execution_count": null,
   "id": "cbf0d191",
   "metadata": {},
   "outputs": [
    {
     "name": "stdout",
     "output_type": "stream",
     "text": [
      "|   iter    |  target   | colsam... |  max_bin  | max_depth | min_ch... | min_ch... | num_le... | reg_alpha | reg_la... | subsample |\n",
      "-------------------------------------------------------------------------------------------------------------------------------------\n",
      "[50]\ttraining's l2: 1.92468e+09\tvalid_1's l2: 2.15239e+09\n",
      "[100]\ttraining's l2: 9.46171e+08\tvalid_1's l2: 1.23417e+09\n",
      "[150]\ttraining's l2: 6.77562e+08\tvalid_1's l2: 9.71967e+08\n",
      "[200]\ttraining's l2: 5.84184e+08\tvalid_1's l2: 8.73196e+08\n",
      "[250]\ttraining's l2: 5.16122e+08\tvalid_1's l2: 8.13847e+08\n",
      "[300]\ttraining's l2: 4.63659e+08\tvalid_1's l2: 7.78425e+08\n",
      "| \u001b[0m 1       \u001b[0m | \u001b[0m 7.784e+0\u001b[0m | \u001b[0m 0.5047  \u001b[0m | \u001b[0m 254.5   \u001b[0m | \u001b[0m 7.134   \u001b[0m | \u001b[0m 14.5    \u001b[0m | \u001b[0m 34.58   \u001b[0m | \u001b[0m 29.53   \u001b[0m | \u001b[0m 44.88   \u001b[0m | \u001b[0m 6.475   \u001b[0m | \u001b[0m 0.9485  \u001b[0m |\n",
      "[50]\ttraining's l2: 2.20202e+09\tvalid_1's l2: 2.40872e+09\n",
      "[100]\ttraining's l2: 1.31991e+09\tvalid_1's l2: 1.62028e+09\n",
      "[150]\ttraining's l2: 1.04927e+09\tvalid_1's l2: 1.37377e+09\n",
      "[200]\ttraining's l2: 9.22032e+08\tvalid_1's l2: 1.26984e+09\n",
      "[250]\ttraining's l2: 8.48363e+08\tvalid_1's l2: 1.20736e+09\n",
      "[300]\ttraining's l2: 7.89041e+08\tvalid_1's l2: 1.16058e+09\n",
      "| \u001b[95m 2       \u001b[0m | \u001b[95m 1.161e+0\u001b[0m | \u001b[95m 0.8606  \u001b[0m | \u001b[95m 417.4   \u001b[0m | \u001b[95m 14.28   \u001b[0m | \u001b[95m 85.02   \u001b[0m | \u001b[95m 47.9    \u001b[0m | \u001b[95m 25.25   \u001b[0m | \u001b[95m 24.75   \u001b[0m | \u001b[95m 3.396   \u001b[0m | \u001b[95m 0.8097  \u001b[0m |\n",
      "[50]\ttraining's l2: 1.87592e+09\tvalid_1's l2: 2.05355e+09\n",
      "[100]\ttraining's l2: 9.40045e+08\tvalid_1's l2: 1.21067e+09\n",
      "[150]\ttraining's l2: 6.85729e+08\tvalid_1's l2: 9.81655e+08\n",
      "[200]\ttraining's l2: 5.90565e+08\tvalid_1's l2: 8.89888e+08\n",
      "[250]\ttraining's l2: 5.21968e+08\tvalid_1's l2: 8.36995e+08\n",
      "[300]\ttraining's l2: 4.57972e+08\tvalid_1's l2: 8.04814e+08\n",
      "| \u001b[0m 3       \u001b[0m | \u001b[0m 8.048e+0\u001b[0m | \u001b[0m 0.9888  \u001b[0m | \u001b[0m 57.25   \u001b[0m | \u001b[0m 13.44   \u001b[0m | \u001b[0m 36.32   \u001b[0m | \u001b[0m 15.64   \u001b[0m | \u001b[0m 39.09   \u001b[0m | \u001b[0m 0.943   \u001b[0m | \u001b[0m 5.238   \u001b[0m | \u001b[0m 0.9322  \u001b[0m |\n",
      "[50]\ttraining's l2: 2.07777e+09\tvalid_1's l2: 2.23904e+09\n",
      "[100]\ttraining's l2: 1.14162e+09\tvalid_1's l2: 1.38018e+09\n",
      "[150]\ttraining's l2: 8.62872e+08\tvalid_1's l2: 1.13412e+09\n",
      "[200]\ttraining's l2: 7.47603e+08\tvalid_1's l2: 1.04569e+09\n",
      "[250]\ttraining's l2: 6.76105e+08\tvalid_1's l2: 9.95866e+08\n",
      "[300]\ttraining's l2: 6.21542e+08\tvalid_1's l2: 9.55761e+08\n",
      "| \u001b[0m 4       \u001b[0m | \u001b[0m 9.558e+0\u001b[0m | \u001b[0m 0.6944  \u001b[0m | \u001b[0m 114.0   \u001b[0m | \u001b[0m 10.75   \u001b[0m | \u001b[0m 60.82   \u001b[0m | \u001b[0m 18.12   \u001b[0m | \u001b[0m 47.13   \u001b[0m | \u001b[0m 1.901   \u001b[0m | \u001b[0m 7.943   \u001b[0m | \u001b[0m 0.6789  \u001b[0m |\n",
      "[50]\ttraining's l2: 2.21987e+09\tvalid_1's l2: 2.42632e+09\n",
      "[100]\ttraining's l2: 1.35177e+09\tvalid_1's l2: 1.67285e+09\n",
      "[150]\ttraining's l2: 1.08025e+09\tvalid_1's l2: 1.4277e+09\n",
      "[200]\ttraining's l2: 9.57573e+08\tvalid_1's l2: 1.32382e+09\n",
      "[250]\ttraining's l2: 8.86667e+08\tvalid_1's l2: 1.26078e+09\n",
      "[300]\ttraining's l2: 8.26263e+08\tvalid_1's l2: 1.21203e+09\n",
      "| \u001b[95m 5       \u001b[0m | \u001b[95m 1.212e+0\u001b[0m | \u001b[95m 0.874   \u001b[0m | \u001b[95m 458.1   \u001b[0m | \u001b[95m 9.727   \u001b[0m | \u001b[95m 96.84   \u001b[0m | \u001b[95m 4.988   \u001b[0m | \u001b[95m 13.53   \u001b[0m | \u001b[95m 14.85   \u001b[0m | \u001b[95m 3.638   \u001b[0m | \u001b[95m 0.7451  \u001b[0m |\n",
      "[50]\ttraining's l2: 2.0598e+09\tvalid_1's l2: 2.23584e+09\n",
      "[100]\ttraining's l2: 1.09052e+09\tvalid_1's l2: 1.34222e+09\n",
      "[150]\ttraining's l2: 8.11157e+08\tvalid_1's l2: 1.08196e+09\n",
      "[200]\ttraining's l2: 6.9379e+08\tvalid_1's l2: 9.89522e+08\n",
      "[250]\ttraining's l2: 6.25382e+08\tvalid_1's l2: 9.34566e+08\n",
      "[300]\ttraining's l2: 5.75999e+08\tvalid_1's l2: 9.02292e+08\n",
      "| \u001b[0m 6       \u001b[0m | \u001b[0m 9.023e+0\u001b[0m | \u001b[0m 1.0     \u001b[0m | \u001b[0m 500.0   \u001b[0m | \u001b[0m 16.0    \u001b[0m | \u001b[0m 34.55   \u001b[0m | \u001b[0m 50.0    \u001b[0m | \u001b[0m 12.0    \u001b[0m | \u001b[0m 0.01    \u001b[0m | \u001b[0m 10.0    \u001b[0m | \u001b[0m 0.5     \u001b[0m |\n",
      "[50]\ttraining's l2: 2.18198e+09\tvalid_1's l2: 2.38377e+09\n",
      "[100]\ttraining's l2: 1.33306e+09\tvalid_1's l2: 1.62944e+09\n",
      "[150]\ttraining's l2: 1.07329e+09\tvalid_1's l2: 1.3885e+09\n",
      "[200]\ttraining's l2: 9.56887e+08\tvalid_1's l2: 1.2883e+09\n",
      "[250]\ttraining's l2: 8.88891e+08\tvalid_1's l2: 1.22995e+09\n",
      "[300]\ttraining's l2: 8.29255e+08\tvalid_1's l2: 1.18266e+09\n",
      "| \u001b[0m 7       \u001b[0m | \u001b[0m 1.183e+0\u001b[0m | \u001b[0m 0.5     \u001b[0m | \u001b[0m 417.3   \u001b[0m | \u001b[0m 6.0     \u001b[0m | \u001b[0m 100.0   \u001b[0m | \u001b[0m 1.0     \u001b[0m | \u001b[0m 12.0    \u001b[0m | \u001b[0m 50.0    \u001b[0m | \u001b[0m 0.001   \u001b[0m | \u001b[0m 1.0     \u001b[0m |\n",
      "[50]\ttraining's l2: 2.1731e+09\tvalid_1's l2: 2.38132e+09\n",
      "[100]\ttraining's l2: 1.33208e+09\tvalid_1's l2: 1.64914e+09\n",
      "[150]\ttraining's l2: 1.07079e+09\tvalid_1's l2: 1.4122e+09\n",
      "[200]\ttraining's l2: 9.53608e+08\tvalid_1's l2: 1.30735e+09\n",
      "[250]\ttraining's l2: 8.8747e+08\tvalid_1's l2: 1.25096e+09\n",
      "[300]\ttraining's l2: 8.26299e+08\tvalid_1's l2: 1.20191e+09\n",
      "| \u001b[0m 8       \u001b[0m | \u001b[0m 1.202e+0\u001b[0m | \u001b[0m 1.0     \u001b[0m | \u001b[0m 483.3   \u001b[0m | \u001b[0m 6.0     \u001b[0m | \u001b[0m 100.0   \u001b[0m | \u001b[0m 1.0     \u001b[0m | \u001b[0m 48.0    \u001b[0m | \u001b[0m 50.0    \u001b[0m | \u001b[0m 0.001   \u001b[0m | \u001b[0m 1.0     \u001b[0m |\n",
      "[50]\ttraining's l2: 2.32477e+09\tvalid_1's l2: 2.50926e+09\n",
      "[100]\ttraining's l2: 1.4062e+09\tvalid_1's l2: 1.69865e+09\n",
      "[150]\ttraining's l2: 1.1148e+09\tvalid_1's l2: 1.43208e+09\n",
      "[200]\ttraining's l2: 9.86041e+08\tvalid_1's l2: 1.31746e+09\n",
      "[250]\ttraining's l2: 9.12349e+08\tvalid_1's l2: 1.25213e+09\n",
      "[300]\ttraining's l2: 8.5529e+08\tvalid_1's l2: 1.20805e+09\n",
      "| \u001b[0m 9       \u001b[0m | \u001b[0m 1.208e+0\u001b[0m | \u001b[0m 0.5     \u001b[0m | \u001b[0m 405.5   \u001b[0m | \u001b[0m 6.0     \u001b[0m | \u001b[0m 100.0   \u001b[0m | \u001b[0m 1.0     \u001b[0m | \u001b[0m 48.0    \u001b[0m | \u001b[0m 0.01    \u001b[0m | \u001b[0m 10.0    \u001b[0m | \u001b[0m 0.5     \u001b[0m |\n",
      "[50]\ttraining's l2: 1.32478e+09\tvalid_1's l2: 1.71652e+09\n",
      "[100]\ttraining's l2: 4.36814e+08\tvalid_1's l2: 1.01176e+09\n",
      "[150]\ttraining's l2: 2.27844e+08\tvalid_1's l2: 8.33533e+08\n",
      "[200]\ttraining's l2: 1.67427e+08\tvalid_1's l2: 7.84653e+08\n",
      "[250]\ttraining's l2: 1.38776e+08\tvalid_1's l2: 7.66236e+08\n",
      "[300]\ttraining's l2: 1.19519e+08\tvalid_1's l2: 7.63947e+08\n",
      "| \u001b[0m 10      \u001b[0m | \u001b[0m 7.639e+0\u001b[0m | \u001b[0m 1.0     \u001b[0m | \u001b[0m 421.1   \u001b[0m | \u001b[0m 6.0     \u001b[0m | \u001b[0m 10.0    \u001b[0m | \u001b[0m 1.0     \u001b[0m | \u001b[0m 48.0    \u001b[0m | \u001b[0m 50.0    \u001b[0m | \u001b[0m 0.001   \u001b[0m | \u001b[0m 1.0     \u001b[0m |\n"
     ]
    }
   ],
   "source": [
    "lgbr = BayesianOptimization(lgb_eval, bayesian_params, random_state=2022)\n",
    "lgbr.maximize(init_points=5, n_iter=25)"
   ]
  },
  {
   "cell_type": "code",
   "execution_count": null,
   "id": "bde49bf9",
   "metadata": {},
   "outputs": [],
   "source": [
    "lgbr.res"
   ]
  },
  {
   "cell_type": "code",
   "execution_count": null,
   "id": "13fa1dc1",
   "metadata": {},
   "outputs": [],
   "source": [
    "target_list = []\n",
    "for result in lgbr.res:\n",
    "    target = result['target']\n",
    "    target_list.append(target)\n",
    "print(target_list)\n",
    "print('maximum target index:', np.argmax(np.array(target_list)))"
   ]
  },
  {
   "cell_type": "code",
   "execution_count": null,
   "id": "2248f1d5",
   "metadata": {},
   "outputs": [],
   "source": [
    "max_dict = lgbr.res[np.argmax(np.array(target_list))]\n",
    "print(max_dict)"
   ]
  },
  {
   "cell_type": "code",
   "execution_count": null,
   "id": "85d17a01",
   "metadata": {},
   "outputs": [],
   "source": [
    "tuning_lgbr = LGBMRegressor(\n",
    "    nthread=4,\n",
    "    n_estimators=800,\n",
    "    learning_rate=0.02,\n",
    "    max_depth = 10,\n",
    "    num_leaves=13,\n",
    "    colsample_bytree=0.873,\n",
    "    subsample=0.745,\n",
    "    max_bin=458,\n",
    "    reg_alpha=14.846,\n",
    "    reg_lambda=3.637,\n",
    "    min_child_weight=5,\n",
    "    min_child_samples=96,\n",
    "    silent=-1,\n",
    "    verbose=-1,\n",
    ")\n",
    "\n",
    "tuning_lgbr.fit(train_x, train_y, eval_set=[(train_x, train_y), (valid_x, valid_y)], eval_metric= 'mean_squared_error',\n",
    "                verbose= 100, early_stopping_rounds= 100)"
   ]
  },
  {
   "cell_type": "code",
   "execution_count": null,
   "id": "f82f5fa5",
   "metadata": {},
   "outputs": [],
   "source": [
    "preds = tuning_lgbr.predict(test_data.drop('Id', axis=1))\n",
    "test_data['SalePrice'] = preds"
   ]
  },
  {
   "cell_type": "code",
   "execution_count": null,
   "id": "0d084af8",
   "metadata": {},
   "outputs": [],
   "source": [
    "test_data[['Id', 'SalePrice']].to_csv('House_prices_hyperparameter_tuning_03.csv', index=False)"
   ]
  },
  {
   "cell_type": "code",
   "execution_count": null,
   "id": "581ffea6",
   "metadata": {},
   "outputs": [],
   "source": []
  }
 ],
 "metadata": {
  "kernelspec": {
   "display_name": "Python 3 (ipykernel)",
   "language": "python",
   "name": "python3"
  },
  "language_info": {
   "codemirror_mode": {
    "name": "ipython",
    "version": 3
   },
   "file_extension": ".py",
   "mimetype": "text/x-python",
   "name": "python",
   "nbconvert_exporter": "python",
   "pygments_lexer": "ipython3",
   "version": "3.9.7"
  }
 },
 "nbformat": 4,
 "nbformat_minor": 5
}
