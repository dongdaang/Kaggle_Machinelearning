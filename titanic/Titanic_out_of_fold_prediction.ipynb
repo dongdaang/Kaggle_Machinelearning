{
 "cells": [
  {
   "cell_type": "code",
   "execution_count": 1,
   "id": "7a83bc08",
   "metadata": {},
   "outputs": [],
   "source": [
    "import pandas as pd\n",
    "import numpy as np\n",
    "import seaborn as sns\n",
    "import matplotlib.pyplot as plt\n",
    "from sklearn.model_selection import train_test_split, KFold\n",
    "\n",
    "%matplotlib inline\n",
    "\n",
    "pd.set_option('display.max_rows', 100)\n",
    "pd.set_option('display.max_columns', 200)"
   ]
  },
  {
   "cell_type": "code",
   "execution_count": 2,
   "id": "f8ee87f1",
   "metadata": {},
   "outputs": [],
   "source": [
    "train_data = pd.read_csv('train.csv')\n",
    "test_data = pd.read_csv('test.csv')"
   ]
  },
  {
   "cell_type": "code",
   "execution_count": 3,
   "id": "e1531521",
   "metadata": {},
   "outputs": [],
   "source": [
    "train_test_data = pd.concat([train_data, test_data])"
   ]
  },
  {
   "cell_type": "code",
   "execution_count": 4,
   "id": "f5788c9e",
   "metadata": {},
   "outputs": [],
   "source": [
    "train_test_data['Cabin'] = train_test_data['Cabin'].str[:1]"
   ]
  },
  {
   "cell_type": "code",
   "execution_count": 5,
   "id": "7e1b7f23",
   "metadata": {},
   "outputs": [],
   "source": [
    "object_columns = ['Name', 'Sex', 'Ticket', 'Cabin', 'Embarked']\n",
    "\n",
    "for column in object_columns:\n",
    "    train_test_data[column] = pd.factorize(train_test_data[column])[0]"
   ]
  },
  {
   "cell_type": "code",
   "execution_count": 6,
   "id": "ee5801d9",
   "metadata": {},
   "outputs": [],
   "source": [
    "train_test_data['Cabin'] = train_test_data['Cabin'].replace(-1, np.nan)"
   ]
  },
  {
   "cell_type": "code",
   "execution_count": 7,
   "id": "d972910b",
   "metadata": {},
   "outputs": [],
   "source": [
    "train_test_data['Cabin'].fillna(train_test_data.groupby('Pclass')['Cabin'].transform('median'), inplace=True)"
   ]
  },
  {
   "cell_type": "code",
   "execution_count": 8,
   "id": "727d945d",
   "metadata": {},
   "outputs": [
    {
     "data": {
      "text/plain": [
       "4.0    715\n",
       "6.0    275\n",
       "0.0     94\n",
       "2.0     72\n",
       "5.0     65\n",
       "3.0     46\n",
       "1.0     41\n",
       "7.0      1\n",
       "Name: Cabin, dtype: int64"
      ]
     },
     "execution_count": 8,
     "metadata": {},
     "output_type": "execute_result"
    }
   ],
   "source": [
    "train_test_data['Cabin'].value_counts(dropna=False)"
   ]
  },
  {
   "cell_type": "code",
   "execution_count": 10,
   "id": "d3253b97",
   "metadata": {},
   "outputs": [],
   "source": [
    "train_data = train_test_data[~train_test_data['Survived'].isnull()]\n",
    "test_data = train_test_data[train_test_data['Survived'].isnull()]"
   ]
  },
  {
   "cell_type": "code",
   "execution_count": 21,
   "id": "8e25e485",
   "metadata": {},
   "outputs": [],
   "source": [
    "from lightgbm import LGBMClassifier\n",
    "\n",
    "def train_oof(train_data, test_data, nfolds=5):\n",
    "    ftr_train = train_data.drop(['PassengerId', 'Survived', 'Name', 'Ticket'], axis=1)\n",
    "    target = train_data['Survived']\n",
    "    \n",
    "    folds = KFold(n_splits=nfolds, shuffle=True, random_state=2022)\n",
    "    \n",
    "    oof_preds = np.zeros(ftr_train.shape[0])\n",
    "    test_preds = np.zeros(test_data.shape[0])\n",
    "    \n",
    "    clf = LGBMClassifier(\n",
    "        n_jobs=-1,\n",
    "        n_estimators=1000,\n",
    "        learning_rate=0.01,\n",
    "        max_bin=19,\n",
    "        min_child_samples=43,\n",
    "        min_child_weight=8,\n",
    "        num_leaves=4,\n",
    "        subsample=0.982,\n",
    "        max_depth=5,\n",
    "        reg_alpha=23.764,\n",
    "        reg_lambda=5.647,\n",
    "        silent=-1,\n",
    "        verbose=-1\n",
    "    )\n",
    "    \n",
    "    for fold_idx, (train_idx, valid_idx) in enumerate(folds.split(ftr_train)):\n",
    "        print('##### iteration ', fold_idx, ' 시작')\n",
    "        train_x  = ftr_train.iloc[train_idx, :]\n",
    "        train_y = target.iloc[train_idx]\n",
    "        valid_x = ftr_train.iloc[valid_idx, :]\n",
    "        valid_y = target.iloc[valid_idx]\n",
    "        \n",
    "        clf.fit(train_x, train_y, eval_set=[(train_x, train_y), (valid_x, valid_y)], eval_metric= 'auc', verbose= 200, \n",
    "                early_stopping_rounds= 200)\n",
    "\n",
    "        oof_preds[valid_idx] = clf.predict_proba(valid_x, num_iteration=clf.best_iteration_)[:, 1]       \n",
    "\n",
    "        test_preds += clf.predict_proba(test_data.drop(['PassengerId', 'Survived', 'Name', 'Ticket'], axis=1),\n",
    "                                        num_iteration=clf.best_iteration_)[:, 1]/folds.n_splits\n",
    "        \n",
    "        \n",
    "    return clf, test_preds"
   ]
  },
  {
   "cell_type": "code",
   "execution_count": 22,
   "id": "4d091374",
   "metadata": {
    "scrolled": true
   },
   "outputs": [
    {
     "name": "stdout",
     "output_type": "stream",
     "text": [
      "2022-04-03 16:04:12.350436\n",
      "##### iteration  0  시작\n"
     ]
    },
    {
     "name": "stderr",
     "output_type": "stream",
     "text": [
      "/Users/dongin-jang/opt/anaconda3/lib/python3.9/site-packages/lightgbm/sklearn.py:598: UserWarning: 'silent' argument is deprecated and will be removed in a future release of LightGBM. Pass 'verbose' parameter via keyword arguments instead.\n",
      "  _log_warning(\"'silent' argument is deprecated and will be removed in a future release of LightGBM. \"\n",
      "/Users/dongin-jang/opt/anaconda3/lib/python3.9/site-packages/lightgbm/sklearn.py:726: UserWarning: 'early_stopping_rounds' argument is deprecated and will be removed in a future release of LightGBM. Pass 'early_stopping()' callback via 'callbacks' argument instead.\n",
      "  _log_warning(\"'early_stopping_rounds' argument is deprecated and will be removed in a future release of LightGBM. \"\n",
      "/Users/dongin-jang/opt/anaconda3/lib/python3.9/site-packages/lightgbm/sklearn.py:736: UserWarning: 'verbose' argument is deprecated and will be removed in a future release of LightGBM. Pass 'log_evaluation()' callback via 'callbacks' argument instead.\n",
      "  _log_warning(\"'verbose' argument is deprecated and will be removed in a future release of LightGBM. \"\n"
     ]
    },
    {
     "name": "stdout",
     "output_type": "stream",
     "text": [
      "[200]\ttraining's auc: 0.836429\ttraining's binary_logloss: 0.49854\tvalid_1's auc: 0.836167\tvalid_1's binary_logloss: 0.510162\n",
      "##### iteration  1  시작\n"
     ]
    },
    {
     "name": "stderr",
     "output_type": "stream",
     "text": [
      "/Users/dongin-jang/opt/anaconda3/lib/python3.9/site-packages/lightgbm/sklearn.py:598: UserWarning: 'silent' argument is deprecated and will be removed in a future release of LightGBM. Pass 'verbose' parameter via keyword arguments instead.\n",
      "  _log_warning(\"'silent' argument is deprecated and will be removed in a future release of LightGBM. \"\n",
      "/Users/dongin-jang/opt/anaconda3/lib/python3.9/site-packages/lightgbm/sklearn.py:726: UserWarning: 'early_stopping_rounds' argument is deprecated and will be removed in a future release of LightGBM. Pass 'early_stopping()' callback via 'callbacks' argument instead.\n",
      "  _log_warning(\"'early_stopping_rounds' argument is deprecated and will be removed in a future release of LightGBM. \"\n",
      "/Users/dongin-jang/opt/anaconda3/lib/python3.9/site-packages/lightgbm/sklearn.py:736: UserWarning: 'verbose' argument is deprecated and will be removed in a future release of LightGBM. Pass 'log_evaluation()' callback via 'callbacks' argument instead.\n",
      "  _log_warning(\"'verbose' argument is deprecated and will be removed in a future release of LightGBM. \"\n"
     ]
    },
    {
     "name": "stdout",
     "output_type": "stream",
     "text": [
      "[200]\ttraining's auc: 0.836731\ttraining's binary_logloss: 0.493309\tvalid_1's auc: 0.821723\tvalid_1's binary_logloss: 0.524351\n",
      "##### iteration  2  시작\n"
     ]
    },
    {
     "name": "stderr",
     "output_type": "stream",
     "text": [
      "/Users/dongin-jang/opt/anaconda3/lib/python3.9/site-packages/lightgbm/sklearn.py:598: UserWarning: 'silent' argument is deprecated and will be removed in a future release of LightGBM. Pass 'verbose' parameter via keyword arguments instead.\n",
      "  _log_warning(\"'silent' argument is deprecated and will be removed in a future release of LightGBM. \"\n",
      "/Users/dongin-jang/opt/anaconda3/lib/python3.9/site-packages/lightgbm/sklearn.py:726: UserWarning: 'early_stopping_rounds' argument is deprecated and will be removed in a future release of LightGBM. Pass 'early_stopping()' callback via 'callbacks' argument instead.\n",
      "  _log_warning(\"'early_stopping_rounds' argument is deprecated and will be removed in a future release of LightGBM. \"\n",
      "/Users/dongin-jang/opt/anaconda3/lib/python3.9/site-packages/lightgbm/sklearn.py:736: UserWarning: 'verbose' argument is deprecated and will be removed in a future release of LightGBM. Pass 'log_evaluation()' callback via 'callbacks' argument instead.\n",
      "  _log_warning(\"'verbose' argument is deprecated and will be removed in a future release of LightGBM. \"\n"
     ]
    },
    {
     "name": "stdout",
     "output_type": "stream",
     "text": [
      "[200]\ttraining's auc: 0.843527\ttraining's binary_logloss: 0.491113\tvalid_1's auc: 0.811785\tvalid_1's binary_logloss: 0.532784\n",
      "##### iteration  3  시작\n"
     ]
    },
    {
     "name": "stderr",
     "output_type": "stream",
     "text": [
      "/Users/dongin-jang/opt/anaconda3/lib/python3.9/site-packages/lightgbm/sklearn.py:598: UserWarning: 'silent' argument is deprecated and will be removed in a future release of LightGBM. Pass 'verbose' parameter via keyword arguments instead.\n",
      "  _log_warning(\"'silent' argument is deprecated and will be removed in a future release of LightGBM. \"\n",
      "/Users/dongin-jang/opt/anaconda3/lib/python3.9/site-packages/lightgbm/sklearn.py:726: UserWarning: 'early_stopping_rounds' argument is deprecated and will be removed in a future release of LightGBM. Pass 'early_stopping()' callback via 'callbacks' argument instead.\n",
      "  _log_warning(\"'early_stopping_rounds' argument is deprecated and will be removed in a future release of LightGBM. \"\n",
      "/Users/dongin-jang/opt/anaconda3/lib/python3.9/site-packages/lightgbm/sklearn.py:736: UserWarning: 'verbose' argument is deprecated and will be removed in a future release of LightGBM. Pass 'log_evaluation()' callback via 'callbacks' argument instead.\n",
      "  _log_warning(\"'verbose' argument is deprecated and will be removed in a future release of LightGBM. \"\n"
     ]
    },
    {
     "name": "stdout",
     "output_type": "stream",
     "text": [
      "[200]\ttraining's auc: 0.830977\ttraining's binary_logloss: 0.515626\tvalid_1's auc: 0.867393\tvalid_1's binary_logloss: 0.467863\n",
      "##### iteration  4  시작\n"
     ]
    },
    {
     "name": "stderr",
     "output_type": "stream",
     "text": [
      "/Users/dongin-jang/opt/anaconda3/lib/python3.9/site-packages/lightgbm/sklearn.py:598: UserWarning: 'silent' argument is deprecated and will be removed in a future release of LightGBM. Pass 'verbose' parameter via keyword arguments instead.\n",
      "  _log_warning(\"'silent' argument is deprecated and will be removed in a future release of LightGBM. \"\n",
      "/Users/dongin-jang/opt/anaconda3/lib/python3.9/site-packages/lightgbm/sklearn.py:726: UserWarning: 'early_stopping_rounds' argument is deprecated and will be removed in a future release of LightGBM. Pass 'early_stopping()' callback via 'callbacks' argument instead.\n",
      "  _log_warning(\"'early_stopping_rounds' argument is deprecated and will be removed in a future release of LightGBM. \"\n",
      "/Users/dongin-jang/opt/anaconda3/lib/python3.9/site-packages/lightgbm/sklearn.py:736: UserWarning: 'verbose' argument is deprecated and will be removed in a future release of LightGBM. Pass 'log_evaluation()' callback via 'callbacks' argument instead.\n",
      "  _log_warning(\"'verbose' argument is deprecated and will be removed in a future release of LightGBM. \"\n"
     ]
    },
    {
     "name": "stdout",
     "output_type": "stream",
     "text": [
      "[200]\ttraining's auc: 0.839284\ttraining's binary_logloss: 0.502481\tvalid_1's auc: 0.831815\tvalid_1's binary_logloss: 0.50352\n",
      "2022-04-03 16:04:14.385334\n"
     ]
    }
   ],
   "source": [
    "import datetime\n",
    " \n",
    "print(datetime.datetime.now())\n",
    "\n",
    "clf, test_preds = train_oof(train_data, test_data, nfolds=5)\n",
    "\n",
    "print(datetime.datetime.now())"
   ]
  },
  {
   "cell_type": "code",
   "execution_count": 27,
   "id": "25ae39c0",
   "metadata": {
    "scrolled": true
   },
   "outputs": [],
   "source": [
    "test_preds = [1 if x > 0.5 else 0 for x in test_preds]"
   ]
  },
  {
   "cell_type": "code",
   "execution_count": 28,
   "id": "4527c7c0",
   "metadata": {},
   "outputs": [
    {
     "name": "stderr",
     "output_type": "stream",
     "text": [
      "/var/folders/09/xdnxbw6n7bl58mxczkp01qq40000gn/T/ipykernel_31698/3381091962.py:1: SettingWithCopyWarning: \n",
      "A value is trying to be set on a copy of a slice from a DataFrame.\n",
      "Try using .loc[row_indexer,col_indexer] = value instead\n",
      "\n",
      "See the caveats in the documentation: https://pandas.pydata.org/pandas-docs/stable/user_guide/indexing.html#returning-a-view-versus-a-copy\n",
      "  test_data['Survived'] = test_preds\n"
     ]
    }
   ],
   "source": [
    "test_data['Survived'] = test_preds\n",
    "test_data[['PassengerId', 'Survived']].to_csv('titanic_final_result.csv', index=False)"
   ]
  }
 ],
 "metadata": {
  "kernelspec": {
   "display_name": "Python 3 (ipykernel)",
   "language": "python",
   "name": "python3"
  },
  "language_info": {
   "codemirror_mode": {
    "name": "ipython",
    "version": 3
   },
   "file_extension": ".py",
   "mimetype": "text/x-python",
   "name": "python",
   "nbconvert_exporter": "python",
   "pygments_lexer": "ipython3",
   "version": "3.9.7"
  }
 },
 "nbformat": 4,
 "nbformat_minor": 5
}
