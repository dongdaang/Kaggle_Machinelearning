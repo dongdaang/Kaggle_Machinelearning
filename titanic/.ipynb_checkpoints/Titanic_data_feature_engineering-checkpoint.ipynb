{
 "cells": [
  {
   "cell_type": "code",
   "execution_count": 2,
   "id": "68d9be46",
   "metadata": {},
   "outputs": [],
   "source": [
    "import pandas as pd\n",
    "import numpy as np\n",
    "import seaborn as sns\n",
    "import matplotlib.pyplot as plt\n",
    "import gc, time\n",
    "\n",
    "%matplotlib inline\n",
    "\n",
    "pd.set_option('display.max_rows', 100)\n",
    "pd.set_option('display.max_columns', 200)"
   ]
  },
  {
   "cell_type": "code",
   "execution_count": 3,
   "id": "4749c61a",
   "metadata": {},
   "outputs": [],
   "source": [
    "train_data = pd.read_csv('train.csv')\n",
    "test_data = pd.read_csv('test.csv')"
   ]
  },
  {
   "cell_type": "code",
   "execution_count": 11,
   "id": "3932fa20",
   "metadata": {},
   "outputs": [
    {
     "name": "stdout",
     "output_type": "stream",
     "text": [
      "####mean####\n",
      " Pclass     2.308642\n",
      "Age       29.699118\n",
      "SibSp      0.523008\n",
      "Parch      0.381594\n",
      "Fare      32.204208\n",
      "dtype: float64\n",
      "####max####\n",
      " Pclass      3.0000\n",
      "Age        80.0000\n",
      "SibSp       8.0000\n",
      "Parch       6.0000\n",
      "Fare      512.3292\n",
      "dtype: float64\n",
      "####min####\n",
      " Pclass    1.00\n",
      "Age       0.42\n",
      "SibSp     0.00\n",
      "Parch     0.00\n",
      "Fare      0.00\n",
      "dtype: float64\n",
      "####std####\n",
      " Pclass     0.836071\n",
      "Age       14.526497\n",
      "SibSp      1.102743\n",
      "Parch      0.806057\n",
      "Fare      49.693429\n",
      "dtype: float64\n"
     ]
    }
   ],
   "source": [
    "print('####mean####\\n', train_data[['Pclass', 'Age', 'SibSp', 'Parch', 'Fare']].mean())\n",
    "print('####max####\\n', train_data[['Pclass', 'Age', 'SibSp', 'Parch', 'Fare']].max())\n",
    "print('####min####\\n', train_data[['Pclass', 'Age', 'SibSp', 'Parch', 'Fare']].min())\n",
    "print('####std####\\n', train_data[['Pclass', 'Age', 'SibSp', 'Parch', 'Fare']].std())"
   ]
  },
  {
   "cell_type": "code",
   "execution_count": 12,
   "id": "d655b408",
   "metadata": {},
   "outputs": [],
   "source": [
    "train_test_data = pd.concat([train_data, test_data])"
   ]
  },
  {
   "cell_type": "code",
   "execution_count": 16,
   "id": "1ee9da4e",
   "metadata": {},
   "outputs": [
    {
     "data": {
      "text/plain": [
       "PassengerId      0\n",
       "Survived         0\n",
       "Pclass           0\n",
       "Name             0\n",
       "Sex              0\n",
       "Age            177\n",
       "SibSp            0\n",
       "Parch            0\n",
       "Ticket           0\n",
       "Fare             0\n",
       "Cabin          687\n",
       "Embarked         2\n",
       "dtype: int64"
      ]
     },
     "execution_count": 16,
     "metadata": {},
     "output_type": "execute_result"
    }
   ],
   "source": [
    "train_data.isnull().sum()"
   ]
  },
  {
   "cell_type": "code",
   "execution_count": 17,
   "id": "91e377c3",
   "metadata": {},
   "outputs": [
    {
     "data": {
      "text/plain": [
       "PassengerId      0\n",
       "Pclass           0\n",
       "Name             0\n",
       "Sex              0\n",
       "Age             86\n",
       "SibSp            0\n",
       "Parch            0\n",
       "Ticket           0\n",
       "Fare             1\n",
       "Cabin          327\n",
       "Embarked         0\n",
       "dtype: int64"
      ]
     },
     "execution_count": 17,
     "metadata": {},
     "output_type": "execute_result"
    }
   ],
   "source": [
    "test_data.isnull().sum()"
   ]
  },
  {
   "cell_type": "code",
   "execution_count": 24,
   "id": "e32af591",
   "metadata": {},
   "outputs": [],
   "source": [
    "train_test_data['Age'].fillna(int(train_test_data['Age'].mean()), inplace=True)"
   ]
  },
  {
   "cell_type": "code",
   "execution_count": 29,
   "id": "f27a51e2",
   "metadata": {},
   "outputs": [],
   "source": [
    "cabin_col = train_test_data['Cabin'].tolist()"
   ]
  },
  {
   "cell_type": "code",
   "execution_count": 39,
   "id": "45a12403",
   "metadata": {},
   "outputs": [
    {
     "data": {
      "text/plain": [
       "str"
      ]
     },
     "execution_count": 39,
     "metadata": {},
     "output_type": "execute_result"
    }
   ],
   "source": [
    "type(cabin_col[1])"
   ]
  },
  {
   "cell_type": "code",
   "execution_count": 42,
   "id": "abfaea41",
   "metadata": {},
   "outputs": [],
   "source": [
    "for i in range(len(cabin_col)):\n",
    "    if type(cabin_col[i]) == str:\n",
    "        cabin_col[i] = cabin_col[i][0]"
   ]
  },
  {
   "cell_type": "code",
   "execution_count": 43,
   "id": "23a494e9",
   "metadata": {},
   "outputs": [],
   "source": [
    "train_test_data['Cabin'] = cabin_col"
   ]
  },
  {
   "cell_type": "code",
   "execution_count": 45,
   "id": "387515c4",
   "metadata": {},
   "outputs": [
    {
     "data": {
      "text/plain": [
       "C    94\n",
       "B    65\n",
       "D    46\n",
       "E    41\n",
       "A    22\n",
       "F    21\n",
       "G     5\n",
       "T     1\n",
       "Name: Cabin, dtype: int64"
      ]
     },
     "execution_count": 45,
     "metadata": {},
     "output_type": "execute_result"
    }
   ],
   "source": [
    "train_test_data['Cabin'].value_counts()"
   ]
  },
  {
   "cell_type": "code",
   "execution_count": 47,
   "id": "c17c4915",
   "metadata": {},
   "outputs": [],
   "source": [
    "object_columns = train_test_data.dtypes[train_test_data.dtypes == 'object'].index.tolist()\n",
    "\n",
    "for column in object_columns:\n",
    "    train_test_data[column] = pd.factorize(train_test_data[column])[0]"
   ]
  },
  {
   "cell_type": "code",
   "execution_count": 48,
   "id": "d6df9144",
   "metadata": {},
   "outputs": [
    {
     "data": {
      "text/plain": [
       "((891, 12), (418, 12))"
      ]
     },
     "execution_count": 48,
     "metadata": {},
     "output_type": "execute_result"
    }
   ],
   "source": [
    "train_data = train_test_data[~train_test_data['Survived'].isnull()]\n",
    "test_data = train_test_data[train_test_data['Survived'].isnull()]\n",
    "train_data.shape, test_data.shape"
   ]
  },
  {
   "cell_type": "code",
   "execution_count": 50,
   "id": "73f656fb",
   "metadata": {},
   "outputs": [
    {
     "data": {
      "text/html": [
       "<div>\n",
       "<style scoped>\n",
       "    .dataframe tbody tr th:only-of-type {\n",
       "        vertical-align: middle;\n",
       "    }\n",
       "\n",
       "    .dataframe tbody tr th {\n",
       "        vertical-align: top;\n",
       "    }\n",
       "\n",
       "    .dataframe thead th {\n",
       "        text-align: right;\n",
       "    }\n",
       "</style>\n",
       "<table border=\"1\" class=\"dataframe\">\n",
       "  <thead>\n",
       "    <tr style=\"text-align: right;\">\n",
       "      <th></th>\n",
       "      <th>PassengerId</th>\n",
       "      <th>Survived</th>\n",
       "      <th>Pclass</th>\n",
       "      <th>Name</th>\n",
       "      <th>Sex</th>\n",
       "      <th>Age</th>\n",
       "      <th>SibSp</th>\n",
       "      <th>Parch</th>\n",
       "      <th>Ticket</th>\n",
       "      <th>Fare</th>\n",
       "      <th>Cabin</th>\n",
       "      <th>Embarked</th>\n",
       "    </tr>\n",
       "  </thead>\n",
       "  <tbody>\n",
       "    <tr>\n",
       "      <th>0</th>\n",
       "      <td>1</td>\n",
       "      <td>0.0</td>\n",
       "      <td>3</td>\n",
       "      <td>0</td>\n",
       "      <td>0</td>\n",
       "      <td>22.0</td>\n",
       "      <td>1</td>\n",
       "      <td>0</td>\n",
       "      <td>0</td>\n",
       "      <td>7.2500</td>\n",
       "      <td>-1</td>\n",
       "      <td>0</td>\n",
       "    </tr>\n",
       "    <tr>\n",
       "      <th>1</th>\n",
       "      <td>2</td>\n",
       "      <td>1.0</td>\n",
       "      <td>1</td>\n",
       "      <td>1</td>\n",
       "      <td>1</td>\n",
       "      <td>38.0</td>\n",
       "      <td>1</td>\n",
       "      <td>0</td>\n",
       "      <td>1</td>\n",
       "      <td>71.2833</td>\n",
       "      <td>0</td>\n",
       "      <td>1</td>\n",
       "    </tr>\n",
       "    <tr>\n",
       "      <th>2</th>\n",
       "      <td>3</td>\n",
       "      <td>1.0</td>\n",
       "      <td>3</td>\n",
       "      <td>2</td>\n",
       "      <td>1</td>\n",
       "      <td>26.0</td>\n",
       "      <td>0</td>\n",
       "      <td>0</td>\n",
       "      <td>2</td>\n",
       "      <td>7.9250</td>\n",
       "      <td>-1</td>\n",
       "      <td>0</td>\n",
       "    </tr>\n",
       "    <tr>\n",
       "      <th>3</th>\n",
       "      <td>4</td>\n",
       "      <td>1.0</td>\n",
       "      <td>1</td>\n",
       "      <td>3</td>\n",
       "      <td>1</td>\n",
       "      <td>35.0</td>\n",
       "      <td>1</td>\n",
       "      <td>0</td>\n",
       "      <td>3</td>\n",
       "      <td>53.1000</td>\n",
       "      <td>0</td>\n",
       "      <td>0</td>\n",
       "    </tr>\n",
       "    <tr>\n",
       "      <th>4</th>\n",
       "      <td>5</td>\n",
       "      <td>0.0</td>\n",
       "      <td>3</td>\n",
       "      <td>4</td>\n",
       "      <td>0</td>\n",
       "      <td>35.0</td>\n",
       "      <td>0</td>\n",
       "      <td>0</td>\n",
       "      <td>4</td>\n",
       "      <td>8.0500</td>\n",
       "      <td>-1</td>\n",
       "      <td>0</td>\n",
       "    </tr>\n",
       "  </tbody>\n",
       "</table>\n",
       "</div>"
      ],
      "text/plain": [
       "   PassengerId  Survived  Pclass  Name  Sex   Age  SibSp  Parch  Ticket  \\\n",
       "0            1       0.0       3     0    0  22.0      1      0       0   \n",
       "1            2       1.0       1     1    1  38.0      1      0       1   \n",
       "2            3       1.0       3     2    1  26.0      0      0       2   \n",
       "3            4       1.0       1     3    1  35.0      1      0       3   \n",
       "4            5       0.0       3     4    0  35.0      0      0       4   \n",
       "\n",
       "      Fare  Cabin  Embarked  \n",
       "0   7.2500     -1         0  \n",
       "1  71.2833      0         1  \n",
       "2   7.9250     -1         0  \n",
       "3  53.1000      0         0  \n",
       "4   8.0500     -1         0  "
      ]
     },
     "execution_count": 50,
     "metadata": {},
     "output_type": "execute_result"
    }
   ],
   "source": [
    "train_data.head()"
   ]
  },
  {
   "cell_type": "code",
   "execution_count": 54,
   "id": "735d7ccb",
   "metadata": {},
   "outputs": [
    {
     "data": {
      "text/plain": [
       "((623, 8), (268, 8))"
      ]
     },
     "execution_count": 54,
     "metadata": {},
     "output_type": "execute_result"
    }
   ],
   "source": [
    "from sklearn.model_selection import train_test_split\n",
    "\n",
    "ftr_train = train_data.drop(['PassengerId', 'Survived', 'Name', 'Ticket'], axis=1)\n",
    "survived_train = train_data['Survived']\n",
    "train_x, valid_x, train_y, valid_y = train_test_split(ftr_train, survived_train, test_size=0.3, random_state=2022)\n",
    "train_x.shape, valid_x.shape"
   ]
  },
  {
   "cell_type": "code",
   "execution_count": null,
   "id": "b7e5cfff",
   "metadata": {},
   "outputs": [],
   "source": [
    "from lightgbm import LGBMClassifier\n",
    "\n",
    "clf = LGBMClassifier(\n",
    "    n_jobs=-1,\n",
    "    n_estimators=500,\n",
    "    learning_rate=0.02,\n",
    "    num_leaves=16,\n",
    "    subsample=0.8,\n",
    "    max_depth=8,\n",
    "    silent=-1,\n",
    "    verbose=-1\n",
    ")\n",
    "\n",
    "clf.fit(train_x, train_y, eval_set=[(train_x, train_y), (valid_x, valid_y)], eval_metric='aut', verbose=30,\n",
    "       early_stopping_rounds=30)"
   ]
  }
 ],
 "metadata": {
  "kernelspec": {
   "display_name": "Python 3 (ipykernel)",
   "language": "python",
   "name": "python3"
  },
  "language_info": {
   "codemirror_mode": {
    "name": "ipython",
    "version": 3
   },
   "file_extension": ".py",
   "mimetype": "text/x-python",
   "name": "python",
   "nbconvert_exporter": "python",
   "pygments_lexer": "ipython3",
   "version": "3.9.7"
  }
 },
 "nbformat": 4,
 "nbformat_minor": 5
}
